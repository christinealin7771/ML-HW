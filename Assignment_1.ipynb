{
 "cells": [
  {
   "cell_type": "code",
   "execution_count": 32,
   "metadata": {},
   "outputs": [
    {
     "data": {
      "text/html": [
       "<div>\n",
       "<style scoped>\n",
       "    .dataframe tbody tr th:only-of-type {\n",
       "        vertical-align: middle;\n",
       "    }\n",
       "\n",
       "    .dataframe tbody tr th {\n",
       "        vertical-align: top;\n",
       "    }\n",
       "\n",
       "    .dataframe thead th {\n",
       "        text-align: right;\n",
       "    }\n",
       "</style>\n",
       "<table border=\"1\" class=\"dataframe\">\n",
       "  <thead>\n",
       "    <tr style=\"text-align: right;\">\n",
       "      <th></th>\n",
       "      <th>Article No.</th>\n",
       "      <th>Title</th>\n",
       "      <th>Year</th>\n",
       "      <th>Author Number</th>\n",
       "      <th>Key Words</th>\n",
       "      <th>Citation</th>\n",
       "      <th>Source</th>\n",
       "      <th>Abstract</th>\n",
       "      <th>Type</th>\n",
       "      <th>Author Name</th>\n",
       "      <th>Author Affiliation</th>\n",
       "      <th>Country</th>\n",
       "      <th>h-index</th>\n",
       "    </tr>\n",
       "  </thead>\n",
       "  <tbody>\n",
       "    <tr>\n",
       "      <th>0</th>\n",
       "      <td>1</td>\n",
       "      <td>Study of Virtual Reality Immersive Technology ...</td>\n",
       "      <td>2022</td>\n",
       "      <td>3</td>\n",
       "      <td>virtual reality technologies, mathematics lear...</td>\n",
       "      <td>7</td>\n",
       "      <td>FRONTIERS IN PSYCHOLOGY</td>\n",
       "      <td>Mathematics is an important foundation for the...</td>\n",
       "      <td>Journal</td>\n",
       "      <td>Yu-Sheng Su</td>\n",
       "      <td>National Taiwan Ocean University</td>\n",
       "      <td>Taiwan</td>\n",
       "      <td>0</td>\n",
       "    </tr>\n",
       "    <tr>\n",
       "      <th>1</th>\n",
       "      <td>1</td>\n",
       "      <td>Study of Virtual Reality Immersive Technology ...</td>\n",
       "      <td>2022</td>\n",
       "      <td>3</td>\n",
       "      <td>virtual reality technologies, mathematics lear...</td>\n",
       "      <td>7</td>\n",
       "      <td>FRONTIERS IN PSYCHOLOGY</td>\n",
       "      <td>Mathematics is an important foundation for the...</td>\n",
       "      <td>Journal</td>\n",
       "      <td>Hung-Wei Cheng</td>\n",
       "      <td>National Taiwan Ocean University</td>\n",
       "      <td>Taiwan</td>\n",
       "      <td>0</td>\n",
       "    </tr>\n",
       "    <tr>\n",
       "      <th>2</th>\n",
       "      <td>1</td>\n",
       "      <td>Study of Virtual Reality Immersive Technology ...</td>\n",
       "      <td>2022</td>\n",
       "      <td>3</td>\n",
       "      <td>virtual reality technologies, mathematics lear...</td>\n",
       "      <td>7</td>\n",
       "      <td>FRONTIERS IN PSYCHOLOGY</td>\n",
       "      <td>Mathematics is an important foundation for the...</td>\n",
       "      <td>Journal</td>\n",
       "      <td>Chin-Feng Lai</td>\n",
       "      <td>National Cheng Kung University</td>\n",
       "      <td>Taiwan</td>\n",
       "      <td>0</td>\n",
       "    </tr>\n",
       "    <tr>\n",
       "      <th>3</th>\n",
       "      <td>2</td>\n",
       "      <td>Factors Influencing Nursing Students' Immersiv...</td>\n",
       "      <td>2021</td>\n",
       "      <td>2</td>\n",
       "      <td>virtual reality; learning; immersive media tec...</td>\n",
       "      <td>3</td>\n",
       "      <td>SENSORS</td>\n",
       "      <td>Background/objectives: This study aims to iden...</td>\n",
       "      <td>Journal</td>\n",
       "      <td>Youngju Kim</td>\n",
       "      <td>Daejeon Health Institute of Technology</td>\n",
       "      <td>Korea</td>\n",
       "      <td>0</td>\n",
       "    </tr>\n",
       "    <tr>\n",
       "      <th>4</th>\n",
       "      <td>2</td>\n",
       "      <td>Factors Influencing Nursing Students' Immersiv...</td>\n",
       "      <td>2021</td>\n",
       "      <td>2</td>\n",
       "      <td>virtual reality; learning; immersive media tec...</td>\n",
       "      <td>3</td>\n",
       "      <td>SENSORS</td>\n",
       "      <td>Background/objectives: This study aims to iden...</td>\n",
       "      <td>Journal</td>\n",
       "      <td>Sung Yun Ahn</td>\n",
       "      <td>Pai Chai University</td>\n",
       "      <td>Korea</td>\n",
       "      <td>0</td>\n",
       "    </tr>\n",
       "    <tr>\n",
       "      <th>...</th>\n",
       "      <td>...</td>\n",
       "      <td>...</td>\n",
       "      <td>...</td>\n",
       "      <td>...</td>\n",
       "      <td>...</td>\n",
       "      <td>...</td>\n",
       "      <td>...</td>\n",
       "      <td>...</td>\n",
       "      <td>...</td>\n",
       "      <td>...</td>\n",
       "      <td>...</td>\n",
       "      <td>...</td>\n",
       "      <td>...</td>\n",
       "    </tr>\n",
       "    <tr>\n",
       "      <th>466</th>\n",
       "      <td>160</td>\n",
       "      <td>Virtual reality enhances safety training in th...</td>\n",
       "      <td>2022</td>\n",
       "      <td>2</td>\n",
       "      <td>non-WEIRD sample; safety training; simulation;...</td>\n",
       "      <td>3</td>\n",
       "      <td>Journal of Computer Assisted Learning</td>\n",
       "      <td>Objective: Many industries struggle with train...</td>\n",
       "      <td>Journal</td>\n",
       "      <td>0</td>\n",
       "      <td>0</td>\n",
       "      <td>0</td>\n",
       "      <td>0</td>\n",
       "    </tr>\n",
       "    <tr>\n",
       "      <th>467</th>\n",
       "      <td>161</td>\n",
       "      <td>Virtual reality for developing intercultural c...</td>\n",
       "      <td>2022</td>\n",
       "      <td>3</td>\n",
       "      <td>Affective domain; Cultural competence; Instruc...</td>\n",
       "      <td>1</td>\n",
       "      <td>Educational Technology Research &amp; Development</td>\n",
       "      <td>Intercultural communicative competence (ICC) i...</td>\n",
       "      <td>Journal</td>\n",
       "      <td>0</td>\n",
       "      <td>0</td>\n",
       "      <td>0</td>\n",
       "      <td>0</td>\n",
       "    </tr>\n",
       "    <tr>\n",
       "      <th>468</th>\n",
       "      <td>162</td>\n",
       "      <td>Virtual reality in problem-based learning cont...</td>\n",
       "      <td>2021</td>\n",
       "      <td>3</td>\n",
       "      <td>English learning; motivation; problem-based le...</td>\n",
       "      <td>27</td>\n",
       "      <td>Journal of Computer Assisted Learning</td>\n",
       "      <td>Learning a foreign language requires interacti...</td>\n",
       "      <td>Journal</td>\n",
       "      <td>0</td>\n",
       "      <td>0</td>\n",
       "      <td>0</td>\n",
       "      <td>0</td>\n",
       "    </tr>\n",
       "    <tr>\n",
       "      <th>469</th>\n",
       "      <td>163</td>\n",
       "      <td>Virtual reality is more efficient in learning ...</td>\n",
       "      <td>2020</td>\n",
       "      <td>8</td>\n",
       "      <td>Virtual reality; Education; Human heart anatomy</td>\n",
       "      <td>36</td>\n",
       "      <td>New Ideas in Psychology</td>\n",
       "      <td>New technologies make their way into education...</td>\n",
       "      <td>Journal</td>\n",
       "      <td>0</td>\n",
       "      <td>0</td>\n",
       "      <td>0</td>\n",
       "      <td>0</td>\n",
       "    </tr>\n",
       "    <tr>\n",
       "      <th>470</th>\n",
       "      <td>164</td>\n",
       "      <td>VR and MR technology for safety management edu...</td>\n",
       "      <td>2022</td>\n",
       "      <td>2</td>\n",
       "      <td>Authentic learning; Construction safety; Virtu...</td>\n",
       "      <td>15</td>\n",
       "      <td>Safety Science</td>\n",
       "      <td>‚Ä¢ VR and MR are successful in operationalisi...</td>\n",
       "      <td>Journal</td>\n",
       "      <td>0</td>\n",
       "      <td>0</td>\n",
       "      <td>0</td>\n",
       "      <td>0</td>\n",
       "    </tr>\n",
       "  </tbody>\n",
       "</table>\n",
       "<p>471 rows × 13 columns</p>\n",
       "</div>"
      ],
      "text/plain": [
       "     Article No.                                              Title  Year  \\\n",
       "0              1  Study of Virtual Reality Immersive Technology ...  2022   \n",
       "1              1  Study of Virtual Reality Immersive Technology ...  2022   \n",
       "2              1  Study of Virtual Reality Immersive Technology ...  2022   \n",
       "3              2  Factors Influencing Nursing Students' Immersiv...  2021   \n",
       "4              2  Factors Influencing Nursing Students' Immersiv...  2021   \n",
       "..           ...                                                ...   ...   \n",
       "466          160  Virtual reality enhances safety training in th...  2022   \n",
       "467          161  Virtual reality for developing intercultural c...  2022   \n",
       "468          162  Virtual reality in problem-based learning cont...  2021   \n",
       "469          163  Virtual reality is more efficient in learning ...  2020   \n",
       "470          164  VR and MR technology for safety management edu...  2022   \n",
       "\n",
       "     Author Number                                          Key Words  \\\n",
       "0                3  virtual reality technologies, mathematics lear...   \n",
       "1                3  virtual reality technologies, mathematics lear...   \n",
       "2                3  virtual reality technologies, mathematics lear...   \n",
       "3                2  virtual reality; learning; immersive media tec...   \n",
       "4                2  virtual reality; learning; immersive media tec...   \n",
       "..             ...                                                ...   \n",
       "466              2  non-WEIRD sample; safety training; simulation;...   \n",
       "467              3  Affective domain; Cultural competence; Instruc...   \n",
       "468              3  English learning; motivation; problem-based le...   \n",
       "469              8    Virtual reality; Education; Human heart anatomy   \n",
       "470              2  Authentic learning; Construction safety; Virtu...   \n",
       "\n",
       "     Citation                                         Source  \\\n",
       "0           7                        FRONTIERS IN PSYCHOLOGY   \n",
       "1           7                        FRONTIERS IN PSYCHOLOGY   \n",
       "2           7                        FRONTIERS IN PSYCHOLOGY   \n",
       "3           3                                        SENSORS   \n",
       "4           3                                        SENSORS   \n",
       "..        ...                                            ...   \n",
       "466         3          Journal of Computer Assisted Learning   \n",
       "467         1  Educational Technology Research & Development   \n",
       "468        27          Journal of Computer Assisted Learning   \n",
       "469        36                        New Ideas in Psychology   \n",
       "470        15                                 Safety Science   \n",
       "\n",
       "                                              Abstract     Type  \\\n",
       "0    Mathematics is an important foundation for the...  Journal   \n",
       "1    Mathematics is an important foundation for the...  Journal   \n",
       "2    Mathematics is an important foundation for the...  Journal   \n",
       "3    Background/objectives: This study aims to iden...  Journal   \n",
       "4    Background/objectives: This study aims to iden...  Journal   \n",
       "..                                                 ...      ...   \n",
       "466  Objective: Many industries struggle with train...  Journal   \n",
       "467  Intercultural communicative competence (ICC) i...  Journal   \n",
       "468  Learning a foreign language requires interacti...  Journal   \n",
       "469  New technologies make their way into education...  Journal   \n",
       "470  ‚Ä¢ VR and MR are successful in operationalisi...  Journal   \n",
       "\n",
       "        Author Name                      Author Affiliation Country  h-index  \n",
       "0       Yu-Sheng Su        National Taiwan Ocean University  Taiwan        0  \n",
       "1    Hung-Wei Cheng        National Taiwan Ocean University  Taiwan        0  \n",
       "2     Chin-Feng Lai          National Cheng Kung University  Taiwan        0  \n",
       "3       Youngju Kim  Daejeon Health Institute of Technology   Korea        0  \n",
       "4      Sung Yun Ahn                     Pai Chai University   Korea        0  \n",
       "..              ...                                     ...     ...      ...  \n",
       "466               0                                       0       0        0  \n",
       "467               0                                       0       0        0  \n",
       "468               0                                       0       0        0  \n",
       "469               0                                       0       0        0  \n",
       "470               0                                       0       0        0  \n",
       "\n",
       "[471 rows x 13 columns]"
      ]
     },
     "execution_count": 32,
     "metadata": {},
     "output_type": "execute_result"
    }
   ],
   "source": [
    "import pandas as pd\n",
    "import numpy as np\n",
    "import matplotlib.pyplot as plt\n",
    "#Q1\n",
    "#read articleInfo.csv\n",
    "df_1 = pd.read_csv(\"articleInfo.csv\")\n",
    "df_1\n",
    "\n",
    "#read authorInfo.csv\n",
    "df_2 = pd.read_csv(\"authorInfo.csv\")\n",
    "df_2\n",
    "\n",
    "#merge two csv using Article No. into one dataframe\n",
    "df_merged = pd.merge(df_1, df_2, how='left', on='Article No.')\n",
    "\n",
    "#fill all empty cells with 0, inplace to persist changes in dataframe, downcast = integer\n",
    "df_merged.fillna(0, inplace=True, downcast='infer')\n",
    "\n",
    "#Print the head table\n",
    "df_merged.head()\n",
    "\n",
    "df_merged\n",
    "\n",
    "\n",
    "\n",
    "\n",
    "# df_merged.to_csv('merged.csv')\n",
    "# df_merged2.to_csv('chrismerged.csv')\n",
    "#check if there is any empty cells\n",
    "# np.where(pd.isnull(df_merged))\n",
    "# print(np)"
   ]
  },
  {
   "cell_type": "code",
   "execution_count": 33,
   "metadata": {},
   "outputs": [
    {
     "data": {
      "text/plain": [
       "Text(0.5, 1.0, 'yearly_publication')"
      ]
     },
     "execution_count": 33,
     "metadata": {},
     "output_type": "execute_result"
    },
    {
     "data": {
      "image/png": "[encoded data removed]",
      "text/plain": [
       "<Figure size 640x480 with 1 Axes>"
      ]
     },
     "metadata": {},
     "output_type": "display_data"
    }
   ],
   "source": [
    "'''\n",
    "Q1-1: Plot the yearly_publication figure, in which the x-axis is the year, the y-axis is\n",
    "the number of articles published during that year.\n",
    "'''\n",
    "\n",
    "#x-axis = years \n",
    "x = df_merged[\"Year\"].unique()\n",
    "\n",
    "#Sort by earliest to latest years\n",
    "x = sorted(x)[1:]\n",
    "\n",
    "y = df_merged.groupby(\"Year\")[\"Article No.\"].nunique()[1:]\n",
    "\n",
    "\n",
    "\n",
    "#Plot \n",
    "plt.plot(x,y)\n",
    "\n",
    "#Labeling graphs\n",
    "plt.xlabel(\"Years\")\n",
    "plt.ylabel(\"Publications per Year\")\n",
    "plt.title(\"yearly_publication\")"
   ]
  },
  {
   "cell_type": "code",
   "execution_count": 34,
   "metadata": {},
   "outputs": [
    {
     "name": "stderr",
     "output_type": "stream",
     "text": [
      "C:\\Users\\chris\\AppData\\Local\\Temp\\ipykernel_9116\\944386374.py:12: FutureWarning: The default value of numeric_only in DataFrameGroupBy.sum is deprecated. In a future version, numeric_only will default to False. Either specify numeric_only or select only columns which should be valid for the function.\n",
      "  y = df_merged.groupby(by=[\"Year\"]).sum()[\"Citation\"]\n"
     ]
    },
    {
     "data": {
      "text/plain": [
       "[<matplotlib.lines.Line2D at 0x266431b3040>]"
      ]
     },
     "execution_count": 34,
     "metadata": {},
     "output_type": "execute_result"
    },
    {
     "data": {
      "image/png": "[encoded data removed]",
      "text/plain": [
       "<Figure size 640x480 with 1 Axes>"
      ]
     },
     "metadata": {},
     "output_type": "display_data"
    }
   ],
   "source": [
    "'''\n",
    "Q1-2: Plot the yearly_citation figure, in which the x-axis is the year, the y-axis is the\n",
    "total number of citations during that year.\n",
    "'''\n",
    "\n",
    "#x-axis = years\n",
    "x = df_merged[\"Year\"].unique()\n",
    "x = sorted(x)[1:]\n",
    "x\n",
    "\n",
    "#y-axis = total citation per year\n",
    "y = df_merged.groupby(by=[\"Year\"]).sum()[\"Citation\"]\n",
    "y = y[1:]\n",
    "\n",
    "\n",
    "#Labeling graphs\n",
    "plt.xlabel(\"Years\")\n",
    "plt.ylabel(\"Citations per Year\")\n",
    "plt.title(\"yearly_citation\")\n",
    "\n",
    "#Plot\n",
    "plt.plot(x,y)"
   ]
  },
  {
   "cell_type": "code",
   "execution_count": 35,
   "metadata": {},
   "outputs": [
    {
     "name": "stderr",
     "output_type": "stream",
     "text": [
      "C:\\Users\\chris\\AppData\\Local\\Temp\\ipykernel_9116\\780883065.py:2: FutureWarning: The default value of numeric_only in DataFrameGroupBy.mean is deprecated. In a future version, numeric_only will default to False. Either specify numeric_only or select only columns which should be valid for the function.\n",
      "  y = df_merged.groupby(by=[\"Year\"]).mean()[\"Citation\"].values\n"
     ]
    },
    {
     "data": {
      "text/plain": [
       "array([  0.        , 291.38461538,  85.82608696,  74.34615385,\n",
       "        24.78494624,  13.04511278,   2.57692308])"
      ]
     },
     "execution_count": 35,
     "metadata": {},
     "output_type": "execute_result"
    }
   ],
   "source": [
    "#y-axis = total citation per year\n",
    "y = df_merged.groupby(by=[\"Year\"]).mean()[\"Citation\"].values\n",
    "y\n"
   ]
  },
  {
   "cell_type": "code",
   "execution_count": 36,
   "metadata": {},
   "outputs": [
    {
     "data": {
      "text/plain": [
       "<BarContainer object of 39 artists>"
      ]
     },
     "execution_count": 36,
     "metadata": {},
     "output_type": "execute_result"
    },
    {
     "data": {
      "image/png": "[encoded data removed]",
      "text/plain": [
       "<Figure size 1200x500 with 1 Axes>"
      ]
     },
     "metadata": {},
     "output_type": "display_data"
    }
   ],
   "source": [
    "'''\n",
    "Q1-3:Plot the figure of the number of publications across countries.\n",
    "'''\n",
    "# x-axis = country\n",
    "countries = df_merged[\"Country\"].unique()\n",
    "x = countries.astype(str)\n",
    "x = np.delete(x, np.where(x == '0'))\n",
    "x\n",
    "\n",
    "\n",
    "#y-axis = num of publications\n",
    "y = df_merged.groupby(by=[\"Country\"]).count()[\"Title\"]\n",
    "#drop the row with zero\n",
    "y = y.drop(y.index[0]).values\n",
    "y\n",
    "plt.figure(figsize=(12, 5))\n",
    "plt.xticks(rotation=45, ha=\"right\")\n",
    "plt.bar(x,y)\n",
    "\n"
   ]
  },
  {
   "cell_type": "code",
   "execution_count": 37,
   "metadata": {},
   "outputs": [
    {
     "data": {
      "text/plain": [
       "Author Affiliation\n",
       "University of the Western Cape    17\n",
       "Masaryk University                12\n",
       "Intel Corporation                 11\n",
       "University College Cork           11\n",
       "Name: Author Name, dtype: int64"
      ]
     },
     "execution_count": 37,
     "metadata": {},
     "output_type": "execute_result"
    }
   ],
   "source": [
    "'''\n",
    "Q1-4: What are the top 5 institutions that have the most published articles in this\n",
    "area?\n",
    "'''\n",
    "\n",
    "top_5_institutions = df_merged.groupby(by=[\"Author Affiliation\"]).count()\n",
    "top_5_institutions[\"Author Name\"].nlargest(n=5)[1:]\n"
   ]
  },
  {
   "cell_type": "code",
   "execution_count": 38,
   "metadata": {},
   "outputs": [
    {
     "name": "stderr",
     "output_type": "stream",
     "text": [
      "C:\\Users\\chris\\AppData\\Local\\Temp\\ipykernel_9116\\2421442496.py:4: FutureWarning: The default value of numeric_only in DataFrameGroupBy.sum is deprecated. In a future version, numeric_only will default to False. Either specify numeric_only or select only columns which should be valid for the function.\n",
      "  top_5_researchers = df_merged.groupby(by=[\"Author Name\"]).sum()\n"
     ]
    },
    {
     "data": {
      "text/plain": [
       "Author Name\n",
       "Ulrich Trautwein         95\n",
       "Nicolas Molinari         63\n",
       "George S. Athwal         59\n",
       "Sellappan Palaniappan    48\n",
       "Maria Luisa Lorusso      33\n",
       "Name: h-index, dtype: int64"
      ]
     },
     "execution_count": 38,
     "metadata": {},
     "output_type": "execute_result"
    }
   ],
   "source": [
    "'''\n",
    "Q1-5: Who are the top 5 researchers that have the most h-index in this area?\n",
    "'''\n",
    "top_5_researchers = df_merged.groupby(by=[\"Author Name\"]).sum()\n",
    "top_5_researchers[\"h-index\"].nlargest(n=5)\n"
   ]
  },
  {
   "cell_type": "code",
   "execution_count": 39,
   "metadata": {},
   "outputs": [
    {
     "data": {
      "text/html": [
       "<div>\n",
       "<style scoped>\n",
       "    .dataframe tbody tr th:only-of-type {\n",
       "        vertical-align: middle;\n",
       "    }\n",
       "\n",
       "    .dataframe tbody tr th {\n",
       "        vertical-align: top;\n",
       "    }\n",
       "\n",
       "    .dataframe thead th {\n",
       "        text-align: right;\n",
       "    }\n",
       "</style>\n",
       "<table border=\"1\" class=\"dataframe\">\n",
       "  <thead>\n",
       "    <tr style=\"text-align: right;\">\n",
       "      <th></th>\n",
       "      <th>Purchase</th>\n",
       "      <th>SUS</th>\n",
       "      <th>Duration</th>\n",
       "      <th>Gender</th>\n",
       "      <th>ASR_Error</th>\n",
       "      <th>Intent_Error</th>\n",
       "    </tr>\n",
       "  </thead>\n",
       "  <tbody>\n",
       "    <tr>\n",
       "      <th>0</th>\n",
       "      <td>1</td>\n",
       "      <td>84</td>\n",
       "      <td>254</td>\n",
       "      <td>0</td>\n",
       "      <td>3</td>\n",
       "      <td>2</td>\n",
       "    </tr>\n",
       "    <tr>\n",
       "      <th>1</th>\n",
       "      <td>0</td>\n",
       "      <td>58</td>\n",
       "      <td>247</td>\n",
       "      <td>0</td>\n",
       "      <td>6</td>\n",
       "      <td>9</td>\n",
       "    </tr>\n",
       "    <tr>\n",
       "      <th>2</th>\n",
       "      <td>0</td>\n",
       "      <td>56</td>\n",
       "      <td>125</td>\n",
       "      <td>1</td>\n",
       "      <td>6</td>\n",
       "      <td>8</td>\n",
       "    </tr>\n",
       "    <tr>\n",
       "      <th>3</th>\n",
       "      <td>0</td>\n",
       "      <td>55</td>\n",
       "      <td>22</td>\n",
       "      <td>0</td>\n",
       "      <td>11</td>\n",
       "      <td>7</td>\n",
       "    </tr>\n",
       "    <tr>\n",
       "      <th>4</th>\n",
       "      <td>1</td>\n",
       "      <td>95</td>\n",
       "      <td>262</td>\n",
       "      <td>0</td>\n",
       "      <td>2</td>\n",
       "      <td>3</td>\n",
       "    </tr>\n",
       "    <tr>\n",
       "      <th>...</th>\n",
       "      <td>...</td>\n",
       "      <td>...</td>\n",
       "      <td>...</td>\n",
       "      <td>...</td>\n",
       "      <td>...</td>\n",
       "      <td>...</td>\n",
       "    </tr>\n",
       "    <tr>\n",
       "      <th>95</th>\n",
       "      <td>0</td>\n",
       "      <td>57</td>\n",
       "      <td>358</td>\n",
       "      <td>0</td>\n",
       "      <td>13</td>\n",
       "      <td>7</td>\n",
       "    </tr>\n",
       "    <tr>\n",
       "      <th>96</th>\n",
       "      <td>1</td>\n",
       "      <td>93</td>\n",
       "      <td>71</td>\n",
       "      <td>0</td>\n",
       "      <td>3</td>\n",
       "      <td>0</td>\n",
       "    </tr>\n",
       "    <tr>\n",
       "      <th>97</th>\n",
       "      <td>0</td>\n",
       "      <td>80</td>\n",
       "      <td>34</td>\n",
       "      <td>1</td>\n",
       "      <td>0</td>\n",
       "      <td>9</td>\n",
       "    </tr>\n",
       "    <tr>\n",
       "      <th>98</th>\n",
       "      <td>1</td>\n",
       "      <td>82</td>\n",
       "      <td>49</td>\n",
       "      <td>1</td>\n",
       "      <td>4</td>\n",
       "      <td>1</td>\n",
       "    </tr>\n",
       "    <tr>\n",
       "      <th>99</th>\n",
       "      <td>1</td>\n",
       "      <td>78</td>\n",
       "      <td>213</td>\n",
       "      <td>0</td>\n",
       "      <td>1</td>\n",
       "      <td>4</td>\n",
       "    </tr>\n",
       "  </tbody>\n",
       "</table>\n",
       "<p>100 rows × 6 columns</p>\n",
       "</div>"
      ],
      "text/plain": [
       "    Purchase  SUS  Duration  Gender  ASR_Error  Intent_Error\n",
       "0          1   84       254       0          3             2\n",
       "1          0   58       247       0          6             9\n",
       "2          0   56       125       1          6             8\n",
       "3          0   55        22       0         11             7\n",
       "4          1   95       262       0          2             3\n",
       "..       ...  ...       ...     ...        ...           ...\n",
       "95         0   57       358       0         13             7\n",
       "96         1   93        71       0          3             0\n",
       "97         0   80        34       1          0             9\n",
       "98         1   82        49       1          4             1\n",
       "99         1   78       213       0          1             4\n",
       "\n",
       "[100 rows x 6 columns]"
      ]
     },
     "execution_count": 39,
     "metadata": {},
     "output_type": "execute_result"
    }
   ],
   "source": [
    "#Q2\n",
    "\n",
    "#Read data.csv and drop teh empty column\n",
    "df_data = pd.read_csv(\"data.csv\")\n",
    "df_data = df_data.drop(columns=\"Unnamed: 6\")\n",
    "df_data = df_data.fillna(0)\n",
    "\n",
    "df_data"
   ]
  },
  {
   "cell_type": "code",
   "execution_count": 40,
   "metadata": {},
   "outputs": [
    {
     "name": "stdout",
     "output_type": "stream",
     "text": [
      "Intent_Error   -0.693675\n",
      "ASR_Error      -0.662405\n",
      "Duration       -0.006631\n",
      "Gender          0.111523\n",
      "Purchase        0.661931\n",
      "SUS             1.000000\n",
      "Name: SUS, dtype: float64\n",
      "    Purchase  Duration  Gender  ASR_Error  Intent_Error\n",
      "0          1       254       0          3             2\n",
      "1          0       247       0          6             9\n",
      "2          0       125       1          6             8\n",
      "3          0        22       0         11             7\n",
      "4          1       262       0          2             3\n",
      "..       ...       ...     ...        ...           ...\n",
      "95         0       358       0         13             7\n",
      "96         1        71       0          3             0\n",
      "97         0        34       1          0             9\n",
      "98         1        49       1          4             1\n",
      "99         1       213       0          1             4\n",
      "\n",
      "[100 rows x 5 columns]\n",
      "0     84\n",
      "1     58\n",
      "2     56\n",
      "3     55\n",
      "4     95\n",
      "      ..\n",
      "95    57\n",
      "96    93\n",
      "97    80\n",
      "98    82\n",
      "99    78\n",
      "Name: SUS, Length: 100, dtype: int64\n"
     ]
    }
   ],
   "source": [
    "#Compute Pair-wise correlations\n",
    "print(df_data.corr(method='pearson')['SUS'].sort_values())\n",
    "\n",
    "\n",
    "X = df_data.drop(['SUS'], axis=1)\n",
    "Y = df_data['SUS']\n",
    "\n",
    "print(X)\n",
    "print(Y)"
   ]
  },
  {
   "cell_type": "code",
   "execution_count": 41,
   "metadata": {},
   "outputs": [],
   "source": [
    "from sklearn.linear_model import LinearRegression\n",
    "from sklearn.model_selection import train_test_split\n",
    "from sklearn.preprocessing import PolynomialFeatures\n",
    "from sklearn.metrics import r2_score,mean_squared_error\n",
    "\n",
    "# (X_Train, Y_train), (X_test, Y_test)\n",
    "#Train data = use to train machine\n",
    "#Test data = use to check accuracy of model\n",
    "# test_size = 0.2 (20% Test data and 80% Training data)\n",
    "X_train, X_test, Y_train, Y_test = train_test_split(X, Y,)\n"
   ]
  },
  {
   "cell_type": "code",
   "execution_count": 42,
   "metadata": {},
   "outputs": [
    {
     "name": "stdout",
     "output_type": "stream",
     "text": [
      "[60.96267928 74.66068627 64.27078126 85.62904736 66.71058787 80.54066634\n",
      " 61.56390268 69.68168861 84.78499246 70.01332663 66.59122673 83.17662269\n",
      " 82.27908026 77.72440439 68.02875938 75.55256443 86.76426632 60.92740028\n",
      " 66.06672825 79.76955187 60.01606921 66.01564905 79.36463907 86.3468791\n",
      " 62.91722093 70.02269541 84.6529807  62.03976632 80.64195122 91.26398624\n",
      " 83.24902    68.10588107 74.84504752 92.34742473 71.70306967 52.85798073\n",
      " 89.28016025 88.38533065 84.68655266 75.56468601 85.28860958 88.2607161\n",
      " 70.07022825 68.16632905 84.71259514 75.44974473 90.26660146 65.60067014\n",
      " 68.67804465 58.86522229 60.63108125 70.67753859 86.33847611 69.65153075\n",
      " 65.09363892 88.67468923 82.68565618 83.62543806 61.06282614 63.985865\n",
      " 56.77315096 79.79200802 76.52652727 90.41866105 73.74874619 78.49980647\n",
      " 65.59056011 61.84800785 86.30249583 84.61244829 62.53069284 83.65218182\n",
      " 71.64489776 84.60802842 88.66033156]\n",
      "(75,)\n"
     ]
    }
   ],
   "source": [
    "#Linear Regression model = Training \n",
    "model = LinearRegression().fit(X_train,Y_train)\n",
    "\n",
    "#Y prediction use the X_Train values with the models\n",
    "y_train_pred = model.predict(X_train)\n",
    "y_test_pred = model.predict(X_test)\n",
    "\n",
    "\n",
    "print(y_train_pred)\n",
    "print(y_train_pred.shape)\n",
    "\n",
    "#print(y_test_pred)\n"
   ]
  },
  {
   "cell_type": "code",
   "execution_count": 43,
   "metadata": {},
   "outputs": [
    {
     "name": "stdout",
     "output_type": "stream",
     "text": [
      "The R square score of linear regression model is:  0.6320400672814683\n"
     ]
    }
   ],
   "source": [
    "#R Squared value of the linear regression model \n",
    "score_1 = model.score(X_test, Y_test)\n",
    "print(\"The R square score of linear regression model is: \", score_1)\n"
   ]
  },
  {
   "cell_type": "code",
   "execution_count": 44,
   "metadata": {},
   "outputs": [
    {
     "data": {
      "text/plain": [
       "<matplotlib.collections.PathCollection at 0x26645791c00>"
      ]
     },
     "execution_count": 44,
     "metadata": {},
     "output_type": "execute_result"
    },
    {
     "data": {
      "image/png": "[encoded data removed]",
      "text/plain": [
       "<Figure size 640x480 with 1 Axes>"
      ]
     },
     "metadata": {},
     "output_type": "display_data"
    }
   ],
   "source": [
    "plt.scatter(Y_train, y_train_pred)"
   ]
  },
  {
   "cell_type": "code",
   "execution_count": 46,
   "metadata": {},
   "outputs": [
    {
     "data": {
      "text/html": [
       "<style>#sk-container-id-1 {color: black;background-color: white;}#sk-container-id-1 pre{padding: 0;}#sk-container-id-1 div.sk-toggleable {background-color: white;}#sk-container-id-1 label.sk-toggleable__label {cursor: pointer;display: block;width: 100%;margin-bottom: 0;padding: 0.3em;box-sizing: border-box;text-align: center;}#sk-container-id-1 label.sk-toggleable__label-arrow:before {content: \"▸\";float: left;margin-right: 0.25em;color: #696969;}#sk-container-id-1 label.sk-toggleable__label-arrow:hover:before {color: black;}#sk-container-id-1 div.sk-estimator:hover label.sk-toggleable__label-arrow:before {color: black;}#sk-container-id-1 div.sk-toggleable__content {max-height: 0;max-width: 0;overflow: hidden;text-align: left;background-color: #f0f8ff;}#sk-container-id-1 div.sk-toggleable__content pre {margin: 0.2em;color: black;border-radius: 0.25em;background-color: #f0f8ff;}#sk-container-id-1 input.sk-toggleable__control:checked~div.sk-toggleable__content {max-height: 200px;max-width: 100%;overflow: auto;}#sk-container-id-1 input.sk-toggleable__control:checked~label.sk-toggleable__label-arrow:before {content: \"▾\";}#sk-container-id-1 div.sk-estimator input.sk-toggleable__control:checked~label.sk-toggleable__label {background-color: #d4ebff;}#sk-container-id-1 div.sk-label input.sk-toggleable__control:checked~label.sk-toggleable__label {background-color: #d4ebff;}#sk-container-id-1 input.sk-hidden--visually {border: 0;clip: rect(1px 1px 1px 1px);clip: rect(1px, 1px, 1px, 1px);height: 1px;margin: -1px;overflow: hidden;padding: 0;position: absolute;width: 1px;}#sk-container-id-1 div.sk-estimator {font-family: monospace;background-color: #f0f8ff;border: 1px dotted black;border-radius: 0.25em;box-sizing: border-box;margin-bottom: 0.5em;}#sk-container-id-1 div.sk-estimator:hover {background-color: #d4ebff;}#sk-container-id-1 div.sk-parallel-item::after {content: \"\";width: 100%;border-bottom: 1px solid gray;flex-grow: 1;}#sk-container-id-1 div.sk-label:hover label.sk-toggleable__label {background-color: #d4ebff;}#sk-container-id-1 div.sk-serial::before {content: \"\";position: absolute;border-left: 1px solid gray;box-sizing: border-box;top: 0;bottom: 0;left: 50%;z-index: 0;}#sk-container-id-1 div.sk-serial {display: flex;flex-direction: column;align-items: center;background-color: white;padding-right: 0.2em;padding-left: 0.2em;position: relative;}#sk-container-id-1 div.sk-item {position: relative;z-index: 1;}#sk-container-id-1 div.sk-parallel {display: flex;align-items: stretch;justify-content: center;background-color: white;position: relative;}#sk-container-id-1 div.sk-item::before, #sk-container-id-1 div.sk-parallel-item::before {content: \"\";position: absolute;border-left: 1px solid gray;box-sizing: border-box;top: 0;bottom: 0;left: 50%;z-index: -1;}#sk-container-id-1 div.sk-parallel-item {display: flex;flex-direction: column;z-index: 1;position: relative;background-color: white;}#sk-container-id-1 div.sk-parallel-item:first-child::after {align-self: flex-end;width: 50%;}#sk-container-id-1 div.sk-parallel-item:last-child::after {align-self: flex-start;width: 50%;}#sk-container-id-1 div.sk-parallel-item:only-child::after {width: 0;}#sk-container-id-1 div.sk-dashed-wrapped {border: 1px dashed gray;margin: 0 0.4em 0.5em 0.4em;box-sizing: border-box;padding-bottom: 0.4em;background-color: white;}#sk-container-id-1 div.sk-label label {font-family: monospace;font-weight: bold;display: inline-block;line-height: 1.2em;}#sk-container-id-1 div.sk-label-container {text-align: center;}#sk-container-id-1 div.sk-container {/* jupyter's `normalize.less` sets `[hidden] { display: none; }` but bootstrap.min.css set `[hidden] { display: none !important; }` so we also need the `!important` here to be able to override the default hidden behavior on the sphinx rendered scikit-learn.org. See: https://github.com/scikit-learn/scikit-learn/issues/21755 */display: inline-block !important;position: relative;}#sk-container-id-1 div.sk-text-repr-fallback {display: none;}</style><div id=\"sk-container-id-1\" class=\"sk-top-container\"><div class=\"sk-text-repr-fallback\"><pre>RandomForestClassifier()</pre><b>In a Jupyter environment, please rerun this cell to show the HTML representation or trust the notebook. <br />On GitHub, the HTML representation is unable to render, please try loading this page with nbviewer.org.</b></div><div class=\"sk-container\" hidden><div class=\"sk-item\"><div class=\"sk-estimator sk-toggleable\"><input class=\"sk-toggleable__control sk-hidden--visually\" id=\"sk-estimator-id-1\" type=\"checkbox\" checked><label for=\"sk-estimator-id-1\" class=\"sk-toggleable__label sk-toggleable__label-arrow\">RandomForestClassifier</label><div class=\"sk-toggleable__content\"><pre>RandomForestClassifier()</pre></div></div></div></div></div>"
      ],
      "text/plain": [
       "RandomForestClassifier()"
      ]
     },
     "execution_count": 46,
     "metadata": {},
     "output_type": "execute_result"
    }
   ],
   "source": [
    "#Q3\n",
    "from sklearn.preprocessing import StandardScaler\n",
    "\n",
    "y = df_data['Purchase'].to_numpy()\n",
    "y\n",
    "\n",
    "X = df_data.drop('Purchase', axis = 1).to_numpy()\n",
    "X\n",
    "\n",
    "# Data Scaling\n",
    "scale = StandardScaler()\n",
    "scaled_X = scale.fit_transform(X)\n",
    "\n",
    "X_train, X_test, y_train, y_test = train_test_split(scaled_X, y, test_size = 0.3)\n",
    "\n",
    "from sklearn.linear_model import LogisticRegression\n",
    "from sklearn.neighbors import KNeighborsClassifier\n",
    "from sklearn.svm import SVC\n",
    "from sklearn.naive_bayes import GaussianNB\n",
    "from sklearn.ensemble import RandomForestClassifier\n",
    "from sklearn.metrics import ConfusionMatrixDisplay, confusion_matrix, roc_curve, auc, classification_report\n",
    "\n",
    "lc = LogisticRegression()\n",
    "neigh = KNeighborsClassifier(n_neighbors=3)\n",
    "svc = SVC(probability=True)\n",
    "nbc = GaussianNB()\n",
    "rfc = RandomForestClassifier()\n",
    "\n",
    "lc = LogisticRegression()\n",
    "neigh = KNeighborsClassifier(n_neighbors=3)\n",
    "svc = SVC(probability=True)\n",
    "nbc = GaussianNB()\n",
    "rfc = RandomForestClassifier()\n",
    "\n",
    "lc.fit(X_train, y_train)\n",
    "neigh.fit(X_train, y_train)\n",
    "svc.fit(X_train, y_train)\n",
    "nbc.fit(X_train, y_train)\n",
    "rfc.fit(X_train, y_train)"
   ]
  },
  {
   "cell_type": "code",
   "execution_count": 47,
   "metadata": {},
   "outputs": [],
   "source": [
    "y_lc_predicted = lc.predict(X_test)\n",
    "y_lc_pred_proba = lc.predict_proba(X_test)\n",
    "\n",
    "y_knn_predicted = neigh.predict(X_test)\n",
    "y_knn_pred_proba = neigh.predict_proba(X_test)\n",
    "\n",
    "y_svc_predicted = svc.predict(X_test)\n",
    "y_svc_pred_proba = svc.predict_proba(X_test)\n",
    "\n",
    "y_nbc_predicted = nbc.predict(X_test)\n",
    "y_nbc_pred_proba = nbc.predict_proba(X_test)\n",
    "\n",
    "y_rfc_predicted = rfc.predict(X_test)\n",
    "y_rfc_pred_proba = rfc.predict_proba(X_test)"
   ]
  },
  {
   "cell_type": "code",
   "execution_count": 48,
   "metadata": {},
   "outputs": [
    {
     "name": "stdout",
     "output_type": "stream",
     "text": [
      "              precision    recall  f1-score   support\n",
      "\n",
      "           0       0.89      1.00      0.94        16\n",
      "           1       1.00      0.86      0.92        14\n",
      "\n",
      "    accuracy                           0.93        30\n",
      "   macro avg       0.94      0.93      0.93        30\n",
      "weighted avg       0.94      0.93      0.93        30\n",
      "\n",
      "              precision    recall  f1-score   support\n",
      "\n",
      "           0       0.88      0.94      0.91        16\n",
      "           1       0.92      0.86      0.89        14\n",
      "\n",
      "    accuracy                           0.90        30\n",
      "   macro avg       0.90      0.90      0.90        30\n",
      "weighted avg       0.90      0.90      0.90        30\n",
      "\n",
      "              precision    recall  f1-score   support\n",
      "\n",
      "           0       0.89      1.00      0.94        16\n",
      "           1       1.00      0.86      0.92        14\n",
      "\n",
      "    accuracy                           0.93        30\n",
      "   macro avg       0.94      0.93      0.93        30\n",
      "weighted avg       0.94      0.93      0.93        30\n",
      "\n",
      "              precision    recall  f1-score   support\n",
      "\n",
      "           0       0.89      1.00      0.94        16\n",
      "           1       1.00      0.86      0.92        14\n",
      "\n",
      "    accuracy                           0.93        30\n",
      "   macro avg       0.94      0.93      0.93        30\n",
      "weighted avg       0.94      0.93      0.93        30\n",
      "\n",
      "              precision    recall  f1-score   support\n",
      "\n",
      "           0       0.89      1.00      0.94        16\n",
      "           1       1.00      0.86      0.92        14\n",
      "\n",
      "    accuracy                           0.93        30\n",
      "   macro avg       0.94      0.93      0.93        30\n",
      "weighted avg       0.94      0.93      0.93        30\n",
      "\n"
     ]
    }
   ],
   "source": [
    "print(classification_report(y_test, y_lc_predicted))\n",
    "print(classification_report(y_test, y_knn_predicted))\n",
    "print(classification_report(y_test, y_svc_predicted))\n",
    "print(classification_report(y_test, y_nbc_predicted))\n",
    "print(classification_report(y_test, y_rfc_predicted))\n"
   ]
  }
 ],
 "metadata": {
  "kernelspec": {
   "display_name": "Python 3",
   "language": "python",
   "name": "python3"
  },
  "language_info": {
   "codemirror_mode": {
    "name": "ipython",
    "version": 3
   },
   "file_extension": ".py",
   "mimetype": "text/x-python",
   "name": "python",
   "nbconvert_exporter": "python",
   "pygments_lexer": "ipython3",
   "version": "3.10.10"
  },
  "orig_nbformat": 4,
  "vscode": {
   "interpreter": {
    "hash": "aa82987a71ca0339a52998cd22613b0c002bda8349fa32a0cb67ceec3936a2bf"
   }
  }
 },
 "nbformat": 4,
 "nbformat_minor": 2
}
